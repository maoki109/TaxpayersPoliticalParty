{
  "nbformat": 4,
  "nbformat_minor": 0,
  "metadata": {
    "colab": {
      "name": "Datathon1-Taxpayer'sPoliticalParty.ipynb",
      "provenance": [],
      "collapsed_sections": [],
      "authorship_tag": "ABX9TyN6CTGeqTG2H4BdyUTA5PK+",
      "include_colab_link": true
    },
    "kernelspec": {
      "name": "python3",
      "display_name": "Python 3"
    }
  },
  "cells": [
    {
      "cell_type": "markdown",
      "metadata": {
        "id": "view-in-github",
        "colab_type": "text"
      },
      "source": [
        "<a href=\"https://colab.research.google.com/github/maoki109/TaxpayersPoliticalParty/blob/main/Datathon1_Taxpayer'sPoliticalParty.ipynb\" target=\"_parent\"><img src=\"https://colab.research.google.com/assets/colab-badge.svg\" alt=\"Open In Colab\"/></a>"
      ]
    },
    {
      "cell_type": "markdown",
      "metadata": {
        "id": "GaQcODSzB5aJ"
      },
      "source": [
        "Mari Aoki\n",
        "\n",
        "DPhi Machine Learning Bootcamp\n",
        "\n",
        "Datathon 1 Due December 17, 2020"
      ]
    },
    {
      "cell_type": "markdown",
      "metadata": {
        "id": "f0CVvVVC4awH"
      },
      "source": [
        "# Content\n",
        "\n",
        "A tax is a compulsory financial charge or some other type of levy imposed on a taxpayer (an individual or legal entity) by a governmental organization in order to fund government spending and various public expenditures.\n",
        "\n",
        "# Objective\n",
        "\n",
        "You are required to build a machine learning model that would predict the political party to which a taxpayer belongs to.\n",
        "\n",
        "# Evaluation Criteria\n",
        "\n",
        "\n",
        "Submissions are evaluated using Accuracy Score.\n",
        "\n",
        "**How do we do it?** \n",
        "\n",
        "Once we release the data, anyone can download it, build a model, and make a submission. We give competitors a set of data (training data) with both the independent and dependent variables. \n",
        "\n",
        "We also release another set of data (test dataset) with just the independent variables, and we hide the dependent variable that corresponds with this set. You submit the predicted values of the dependent variable for this set and we compare it against the actual values. \n",
        "\n",
        "The predictions are evaluated based on the evaluation metric defined in the datathon.\n",
        "\n",
        "# About the Data\n",
        "\n",
        "The dataset contains information about US taxpayers. There are 10 independent columns and 1 dependent column. This dataset includes attributes like household income, household debt level, if the taxpayer is married or not, how many cars their household has, if they filed their taxes in the last three years or not. Some of the attribute informations are given below:\n",
        "\n",
        "To load the training data in your jupyter notebook, use the below command:"
      ]
    },
    {
      "cell_type": "code",
      "metadata": {
        "id": "mVJ4N_jo4B7n"
      },
      "source": [
        "import pandas as pd\n",
        "\n",
        "tax_data = pd.read_csv(\"https://raw.githubusercontent.com/dphi-official/Datasets/master/tax_payers/train_set_label.csv\") "
      ],
      "execution_count": null,
      "outputs": []
    },
    {
      "cell_type": "code",
      "metadata": {
        "id": "VxVgykJOGDk6"
      },
      "source": [
        "import numpy as np    # package for numerical computations\n",
        "\n",
        "# libraries for visualization\n",
        "import matplotlib.pyplot as plt\n",
        "import seaborn as sns\n",
        "\n",
        "# to ignore warnings\n",
        "import warnings\n",
        "warnings.filterwarnings('ignore')\n",
        "\n",
        "# For Preprocessing, ML models and Evaluation\n",
        "# To split the dataset into train and test set\n",
        "from sklearn.model_selection import train_test_split   \n",
        "\n",
        "# Logistic regression model\n",
        "from sklearn.linear_model import LogisticRegression  \n",
        "\n",
        "# for model evaluation\n",
        "from sklearn.metrics import f1_score    \n",
        "\n",
        "# Accuracy score\n",
        "from sklearn.metrics import accuracy_score"
      ],
      "execution_count": null,
      "outputs": []
    },
    {
      "cell_type": "markdown",
      "metadata": {
        "id": "VC5T0gY38EBa"
      },
      "source": [
        "# Data Description\n",
        "* HHI: Household income\n",
        "* HHDL: Household debt level\n",
        "* Married: There are three categories for a taxpayer 0, 1, 2 with regards to marriage.\n",
        "* PoliticalParty: Name of the political party\n",
        "* CollegeGrads: Grade in College out of 5\n",
        "* AHHAge: Average household age\n",
        "* cars: number of cars in house\n",
        "* Filed in YYYY: Tax filed in given year YYYY\n",
        "\n",
        "\n"
      ]
    },
    {
      "cell_type": "code",
      "metadata": {
        "colab": {
          "base_uri": "https://localhost:8080/",
          "height": 204
        },
        "id": "mEJwA71b86EE",
        "outputId": "e483aa9f-7b64-4506-e717-96d0473f6dad"
      },
      "source": [
        "tax_data.head()"
      ],
      "execution_count": null,
      "outputs": [
        {
          "output_type": "execute_result",
          "data": {
            "text/html": [
              "<div>\n",
              "<style scoped>\n",
              "    .dataframe tbody tr th:only-of-type {\n",
              "        vertical-align: middle;\n",
              "    }\n",
              "\n",
              "    .dataframe tbody tr th {\n",
              "        vertical-align: top;\n",
              "    }\n",
              "\n",
              "    .dataframe thead th {\n",
              "        text-align: right;\n",
              "    }\n",
              "</style>\n",
              "<table border=\"1\" class=\"dataframe\">\n",
              "  <thead>\n",
              "    <tr style=\"text-align: right;\">\n",
              "      <th></th>\n",
              "      <th>Unnamed: 0</th>\n",
              "      <th>HHI</th>\n",
              "      <th>HHDL</th>\n",
              "      <th>Married</th>\n",
              "      <th>CollegGrads</th>\n",
              "      <th>AHHAge</th>\n",
              "      <th>Cars</th>\n",
              "      <th>Filed in 2017</th>\n",
              "      <th>Filed in 2016</th>\n",
              "      <th>Filed in 2015</th>\n",
              "      <th>PoliticalParty</th>\n",
              "    </tr>\n",
              "  </thead>\n",
              "  <tbody>\n",
              "    <tr>\n",
              "      <th>0</th>\n",
              "      <td>61</td>\n",
              "      <td>183414</td>\n",
              "      <td>-12402</td>\n",
              "      <td>1</td>\n",
              "      <td>2</td>\n",
              "      <td>28</td>\n",
              "      <td>1</td>\n",
              "      <td>0</td>\n",
              "      <td>0</td>\n",
              "      <td>1</td>\n",
              "      <td>Democrat</td>\n",
              "    </tr>\n",
              "    <tr>\n",
              "      <th>1</th>\n",
              "      <td>501</td>\n",
              "      <td>129786</td>\n",
              "      <td>700251</td>\n",
              "      <td>2</td>\n",
              "      <td>5</td>\n",
              "      <td>63</td>\n",
              "      <td>3</td>\n",
              "      <td>0</td>\n",
              "      <td>0</td>\n",
              "      <td>0</td>\n",
              "      <td>Republican</td>\n",
              "    </tr>\n",
              "    <tr>\n",
              "      <th>2</th>\n",
              "      <td>658</td>\n",
              "      <td>268343</td>\n",
              "      <td>493411</td>\n",
              "      <td>2</td>\n",
              "      <td>4</td>\n",
              "      <td>44</td>\n",
              "      <td>1</td>\n",
              "      <td>1</td>\n",
              "      <td>0</td>\n",
              "      <td>1</td>\n",
              "      <td>Independent</td>\n",
              "    </tr>\n",
              "    <tr>\n",
              "      <th>3</th>\n",
              "      <td>703</td>\n",
              "      <td>290506</td>\n",
              "      <td>-433408</td>\n",
              "      <td>1</td>\n",
              "      <td>1</td>\n",
              "      <td>28</td>\n",
              "      <td>5</td>\n",
              "      <td>1</td>\n",
              "      <td>0</td>\n",
              "      <td>1</td>\n",
              "      <td>Republican</td>\n",
              "    </tr>\n",
              "    <tr>\n",
              "      <th>4</th>\n",
              "      <td>702</td>\n",
              "      <td>90108</td>\n",
              "      <td>907135</td>\n",
              "      <td>1</td>\n",
              "      <td>3</td>\n",
              "      <td>57</td>\n",
              "      <td>5</td>\n",
              "      <td>1</td>\n",
              "      <td>1</td>\n",
              "      <td>0</td>\n",
              "      <td>Democrat</td>\n",
              "    </tr>\n",
              "  </tbody>\n",
              "</table>\n",
              "</div>"
            ],
            "text/plain": [
              "   Unnamed: 0     HHI    HHDL  ...  Filed in 2016  Filed in 2015  PoliticalParty\n",
              "0          61  183414  -12402  ...              0              1        Democrat\n",
              "1         501  129786  700251  ...              0              0      Republican\n",
              "2         658  268343  493411  ...              0              1     Independent\n",
              "3         703  290506 -433408  ...              0              1      Republican\n",
              "4         702   90108  907135  ...              1              0        Democrat\n",
              "\n",
              "[5 rows x 11 columns]"
            ]
          },
          "metadata": {
            "tags": []
          },
          "execution_count": 4
        }
      ]
    },
    {
      "cell_type": "code",
      "metadata": {
        "colab": {
          "base_uri": "https://localhost:8080/"
        },
        "id": "96WSw46w-uc1",
        "outputId": "a4cdd36c-459e-49a6-cccb-e267b24682b1"
      },
      "source": [
        "tax_data.info()"
      ],
      "execution_count": null,
      "outputs": [
        {
          "output_type": "stream",
          "text": [
            "<class 'pandas.core.frame.DataFrame'>\n",
            "RangeIndex: 803 entries, 0 to 802\n",
            "Data columns (total 11 columns):\n",
            " #   Column          Non-Null Count  Dtype \n",
            "---  ------          --------------  ----- \n",
            " 0   Unnamed: 0      803 non-null    int64 \n",
            " 1   HHI             803 non-null    int64 \n",
            " 2   HHDL            803 non-null    int64 \n",
            " 3   Married         803 non-null    int64 \n",
            " 4   CollegGrads     803 non-null    int64 \n",
            " 5   AHHAge          803 non-null    int64 \n",
            " 6   Cars            803 non-null    int64 \n",
            " 7   Filed in 2017   803 non-null    int64 \n",
            " 8   Filed in 2016   803 non-null    int64 \n",
            " 9   Filed in 2015   803 non-null    int64 \n",
            " 10  PoliticalParty  803 non-null    object\n",
            "dtypes: int64(10), object(1)\n",
            "memory usage: 69.1+ KB\n"
          ],
          "name": "stdout"
        }
      ]
    },
    {
      "cell_type": "code",
      "metadata": {
        "colab": {
          "base_uri": "https://localhost:8080/"
        },
        "id": "1MqZdY9R_JuD",
        "outputId": "690c112b-3330-4dc4-fdd8-1be99c731311"
      },
      "source": [
        "tax_data.isnull().sum()"
      ],
      "execution_count": null,
      "outputs": [
        {
          "output_type": "execute_result",
          "data": {
            "text/plain": [
              "Unnamed: 0        0\n",
              "HHI               0\n",
              "HHDL              0\n",
              "Married           0\n",
              "CollegGrads       0\n",
              "AHHAge            0\n",
              "Cars              0\n",
              "Filed in 2017     0\n",
              "Filed in 2016     0\n",
              "Filed in 2015     0\n",
              "PoliticalParty    0\n",
              "dtype: int64"
            ]
          },
          "metadata": {
            "tags": []
          },
          "execution_count": 6
        }
      ]
    },
    {
      "cell_type": "markdown",
      "metadata": {
        "id": "lGIcvbSNFSuF"
      },
      "source": [
        "There are no missing values in the dataset."
      ]
    },
    {
      "cell_type": "code",
      "metadata": {
        "colab": {
          "base_uri": "https://localhost:8080/",
          "height": 297
        },
        "id": "Kf-D_BbwDG1d",
        "outputId": "ebc36164-3c79-4642-88cb-0d0715124deb"
      },
      "source": [
        "tax_data.describe()"
      ],
      "execution_count": null,
      "outputs": [
        {
          "output_type": "execute_result",
          "data": {
            "text/html": [
              "<div>\n",
              "<style scoped>\n",
              "    .dataframe tbody tr th:only-of-type {\n",
              "        vertical-align: middle;\n",
              "    }\n",
              "\n",
              "    .dataframe tbody tr th {\n",
              "        vertical-align: top;\n",
              "    }\n",
              "\n",
              "    .dataframe thead th {\n",
              "        text-align: right;\n",
              "    }\n",
              "</style>\n",
              "<table border=\"1\" class=\"dataframe\">\n",
              "  <thead>\n",
              "    <tr style=\"text-align: right;\">\n",
              "      <th></th>\n",
              "      <th>Unnamed: 0</th>\n",
              "      <th>HHI</th>\n",
              "      <th>HHDL</th>\n",
              "      <th>Married</th>\n",
              "      <th>CollegGrads</th>\n",
              "      <th>AHHAge</th>\n",
              "      <th>Cars</th>\n",
              "      <th>Filed in 2017</th>\n",
              "      <th>Filed in 2016</th>\n",
              "      <th>Filed in 2015</th>\n",
              "    </tr>\n",
              "  </thead>\n",
              "  <tbody>\n",
              "    <tr>\n",
              "      <th>count</th>\n",
              "      <td>803.000000</td>\n",
              "      <td>803.000000</td>\n",
              "      <td>803.000000</td>\n",
              "      <td>803.000000</td>\n",
              "      <td>803.000000</td>\n",
              "      <td>803.000000</td>\n",
              "      <td>803.000000</td>\n",
              "      <td>803.000000</td>\n",
              "      <td>803.000000</td>\n",
              "      <td>803.000000</td>\n",
              "    </tr>\n",
              "    <tr>\n",
              "      <th>mean</th>\n",
              "      <td>502.241594</td>\n",
              "      <td>155402.688667</td>\n",
              "      <td>-15351.252802</td>\n",
              "      <td>0.971357</td>\n",
              "      <td>2.607721</td>\n",
              "      <td>60.559153</td>\n",
              "      <td>2.435866</td>\n",
              "      <td>0.506849</td>\n",
              "      <td>0.509340</td>\n",
              "      <td>0.516812</td>\n",
              "    </tr>\n",
              "    <tr>\n",
              "      <th>std</th>\n",
              "      <td>288.460068</td>\n",
              "      <td>86788.153213</td>\n",
              "      <td>595184.302049</td>\n",
              "      <td>0.803935</td>\n",
              "      <td>1.675492</td>\n",
              "      <td>25.071219</td>\n",
              "      <td>1.703542</td>\n",
              "      <td>0.500265</td>\n",
              "      <td>0.500224</td>\n",
              "      <td>0.500029</td>\n",
              "    </tr>\n",
              "    <tr>\n",
              "      <th>min</th>\n",
              "      <td>1.000000</td>\n",
              "      <td>185.000000</td>\n",
              "      <td>-999994.000000</td>\n",
              "      <td>0.000000</td>\n",
              "      <td>0.000000</td>\n",
              "      <td>18.000000</td>\n",
              "      <td>0.000000</td>\n",
              "      <td>0.000000</td>\n",
              "      <td>0.000000</td>\n",
              "      <td>0.000000</td>\n",
              "    </tr>\n",
              "    <tr>\n",
              "      <th>25%</th>\n",
              "      <td>254.500000</td>\n",
              "      <td>82373.000000</td>\n",
              "      <td>-516765.000000</td>\n",
              "      <td>0.000000</td>\n",
              "      <td>1.000000</td>\n",
              "      <td>38.000000</td>\n",
              "      <td>1.000000</td>\n",
              "      <td>0.000000</td>\n",
              "      <td>0.000000</td>\n",
              "      <td>0.000000</td>\n",
              "    </tr>\n",
              "    <tr>\n",
              "      <th>50%</th>\n",
              "      <td>501.000000</td>\n",
              "      <td>156542.000000</td>\n",
              "      <td>-24440.000000</td>\n",
              "      <td>1.000000</td>\n",
              "      <td>3.000000</td>\n",
              "      <td>60.000000</td>\n",
              "      <td>2.000000</td>\n",
              "      <td>1.000000</td>\n",
              "      <td>1.000000</td>\n",
              "      <td>1.000000</td>\n",
              "    </tr>\n",
              "    <tr>\n",
              "      <th>75%</th>\n",
              "      <td>754.500000</td>\n",
              "      <td>230772.000000</td>\n",
              "      <td>518135.500000</td>\n",
              "      <td>2.000000</td>\n",
              "      <td>4.000000</td>\n",
              "      <td>82.000000</td>\n",
              "      <td>4.000000</td>\n",
              "      <td>1.000000</td>\n",
              "      <td>1.000000</td>\n",
              "      <td>1.000000</td>\n",
              "    </tr>\n",
              "    <tr>\n",
              "      <th>max</th>\n",
              "      <td>1004.000000</td>\n",
              "      <td>299374.000000</td>\n",
              "      <td>999628.000000</td>\n",
              "      <td>2.000000</td>\n",
              "      <td>5.000000</td>\n",
              "      <td>105.000000</td>\n",
              "      <td>5.000000</td>\n",
              "      <td>1.000000</td>\n",
              "      <td>1.000000</td>\n",
              "      <td>1.000000</td>\n",
              "    </tr>\n",
              "  </tbody>\n",
              "</table>\n",
              "</div>"
            ],
            "text/plain": [
              "        Unnamed: 0            HHI  ...  Filed in 2016  Filed in 2015\n",
              "count   803.000000     803.000000  ...     803.000000     803.000000\n",
              "mean    502.241594  155402.688667  ...       0.509340       0.516812\n",
              "std     288.460068   86788.153213  ...       0.500224       0.500029\n",
              "min       1.000000     185.000000  ...       0.000000       0.000000\n",
              "25%     254.500000   82373.000000  ...       0.000000       0.000000\n",
              "50%     501.000000  156542.000000  ...       1.000000       1.000000\n",
              "75%     754.500000  230772.000000  ...       1.000000       1.000000\n",
              "max    1004.000000  299374.000000  ...       1.000000       1.000000\n",
              "\n",
              "[8 rows x 10 columns]"
            ]
          },
          "metadata": {
            "tags": []
          },
          "execution_count": 7
        }
      ]
    },
    {
      "cell_type": "markdown",
      "metadata": {
        "id": "oKr8MQgRDtuI"
      },
      "source": [
        "Separate input and output variables"
      ]
    },
    {
      "cell_type": "code",
      "metadata": {
        "id": "IIpoV1bADwes"
      },
      "source": [
        "X = tax_data.drop('PoliticalParty', axis = 1)\n",
        "Y = tax_data['PoliticalParty']"
      ],
      "execution_count": null,
      "outputs": []
    },
    {
      "cell_type": "markdown",
      "metadata": {
        "id": "NVovzvzJpi-a"
      },
      "source": [
        "Split into test and train groups"
      ]
    },
    {
      "cell_type": "code",
      "metadata": {
        "id": "9KXwtgcUpkwq"
      },
      "source": [
        "X_train, X_test, y_train, y_test = train_test_split(X, Y, test_size=0.2, random_state=1)"
      ],
      "execution_count": null,
      "outputs": []
    },
    {
      "cell_type": "code",
      "metadata": {
        "colab": {
          "base_uri": "https://localhost:8080/",
          "height": 204
        },
        "id": "IppOBuEwE2CU",
        "outputId": "0910c5f4-5705-41fb-961f-519b08fced97"
      },
      "source": [
        "X_train.head()"
      ],
      "execution_count": null,
      "outputs": [
        {
          "output_type": "execute_result",
          "data": {
            "text/html": [
              "<div>\n",
              "<style scoped>\n",
              "    .dataframe tbody tr th:only-of-type {\n",
              "        vertical-align: middle;\n",
              "    }\n",
              "\n",
              "    .dataframe tbody tr th {\n",
              "        vertical-align: top;\n",
              "    }\n",
              "\n",
              "    .dataframe thead th {\n",
              "        text-align: right;\n",
              "    }\n",
              "</style>\n",
              "<table border=\"1\" class=\"dataframe\">\n",
              "  <thead>\n",
              "    <tr style=\"text-align: right;\">\n",
              "      <th></th>\n",
              "      <th>Unnamed: 0</th>\n",
              "      <th>HHI</th>\n",
              "      <th>HHDL</th>\n",
              "      <th>Married</th>\n",
              "      <th>CollegGrads</th>\n",
              "      <th>AHHAge</th>\n",
              "      <th>Cars</th>\n",
              "      <th>Filed in 2017</th>\n",
              "      <th>Filed in 2016</th>\n",
              "      <th>Filed in 2015</th>\n",
              "    </tr>\n",
              "  </thead>\n",
              "  <tbody>\n",
              "    <tr>\n",
              "      <th>309</th>\n",
              "      <td>124</td>\n",
              "      <td>238857</td>\n",
              "      <td>-405651</td>\n",
              "      <td>1</td>\n",
              "      <td>5</td>\n",
              "      <td>37</td>\n",
              "      <td>2</td>\n",
              "      <td>0</td>\n",
              "      <td>1</td>\n",
              "      <td>0</td>\n",
              "    </tr>\n",
              "    <tr>\n",
              "      <th>433</th>\n",
              "      <td>861</td>\n",
              "      <td>27895</td>\n",
              "      <td>807147</td>\n",
              "      <td>0</td>\n",
              "      <td>5</td>\n",
              "      <td>43</td>\n",
              "      <td>3</td>\n",
              "      <td>1</td>\n",
              "      <td>0</td>\n",
              "      <td>1</td>\n",
              "    </tr>\n",
              "    <tr>\n",
              "      <th>613</th>\n",
              "      <td>112</td>\n",
              "      <td>36210</td>\n",
              "      <td>-426622</td>\n",
              "      <td>1</td>\n",
              "      <td>4</td>\n",
              "      <td>43</td>\n",
              "      <td>2</td>\n",
              "      <td>1</td>\n",
              "      <td>0</td>\n",
              "      <td>1</td>\n",
              "    </tr>\n",
              "    <tr>\n",
              "      <th>108</th>\n",
              "      <td>78</td>\n",
              "      <td>46758</td>\n",
              "      <td>-753137</td>\n",
              "      <td>1</td>\n",
              "      <td>0</td>\n",
              "      <td>46</td>\n",
              "      <td>2</td>\n",
              "      <td>1</td>\n",
              "      <td>0</td>\n",
              "      <td>0</td>\n",
              "    </tr>\n",
              "    <tr>\n",
              "      <th>800</th>\n",
              "      <td>596</td>\n",
              "      <td>51066</td>\n",
              "      <td>-900262</td>\n",
              "      <td>1</td>\n",
              "      <td>1</td>\n",
              "      <td>67</td>\n",
              "      <td>4</td>\n",
              "      <td>0</td>\n",
              "      <td>0</td>\n",
              "      <td>0</td>\n",
              "    </tr>\n",
              "  </tbody>\n",
              "</table>\n",
              "</div>"
            ],
            "text/plain": [
              "     Unnamed: 0     HHI    HHDL  ...  Filed in 2017  Filed in 2016  Filed in 2015\n",
              "309         124  238857 -405651  ...              0              1              0\n",
              "433         861   27895  807147  ...              1              0              1\n",
              "613         112   36210 -426622  ...              1              0              1\n",
              "108          78   46758 -753137  ...              1              0              0\n",
              "800         596   51066 -900262  ...              0              0              0\n",
              "\n",
              "[5 rows x 10 columns]"
            ]
          },
          "metadata": {
            "tags": []
          },
          "execution_count": 22
        }
      ]
    },
    {
      "cell_type": "code",
      "metadata": {
        "colab": {
          "base_uri": "https://localhost:8080/"
        },
        "id": "Qo8hqhRxEyrY",
        "outputId": "16d0dd01-d5ca-4e4f-9d4c-57e98df5a893"
      },
      "source": [
        "X_train.info()"
      ],
      "execution_count": null,
      "outputs": [
        {
          "output_type": "stream",
          "text": [
            "<class 'pandas.core.frame.DataFrame'>\n",
            "Int64Index: 642 entries, 309 to 37\n",
            "Data columns (total 10 columns):\n",
            " #   Column         Non-Null Count  Dtype\n",
            "---  ------         --------------  -----\n",
            " 0   Unnamed: 0     642 non-null    int64\n",
            " 1   HHI            642 non-null    int64\n",
            " 2   HHDL           642 non-null    int64\n",
            " 3   Married        642 non-null    int64\n",
            " 4   CollegGrads    642 non-null    int64\n",
            " 5   AHHAge         642 non-null    int64\n",
            " 6   Cars           642 non-null    int64\n",
            " 7   Filed in 2017  642 non-null    int64\n",
            " 8   Filed in 2016  642 non-null    int64\n",
            " 9   Filed in 2015  642 non-null    int64\n",
            "dtypes: int64(10)\n",
            "memory usage: 55.2 KB\n"
          ],
          "name": "stdout"
        }
      ]
    },
    {
      "cell_type": "markdown",
      "metadata": {
        "id": "N7WLG0SHFeWN"
      },
      "source": [
        "# Exploratory Data Analysis (EDA)\n",
        "\n"
      ]
    },
    {
      "cell_type": "markdown",
      "metadata": {
        "id": "IQJAApeXqcqk"
      },
      "source": [
        "Distribution of target variable"
      ]
    },
    {
      "cell_type": "code",
      "metadata": {
        "colab": {
          "base_uri": "https://localhost:8080/",
          "height": 296
        },
        "id": "cr92pIeEqexL",
        "outputId": "48ac48b4-4608-4aba-df90-bdb5d0ff5af4"
      },
      "source": [
        "sns.countplot(y_train)\n",
        "plt.show"
      ],
      "execution_count": null,
      "outputs": [
        {
          "output_type": "execute_result",
          "data": {
            "text/plain": [
              "<function matplotlib.pyplot.show>"
            ]
          },
          "metadata": {
            "tags": []
          },
          "execution_count": 12
        },
        {
          "output_type": "display_data",
          "data": {
            "image/png": "[encoded data removed]",
            "text/plain": [
              "<Figure size 432x288 with 1 Axes>"
            ]
          },
          "metadata": {
            "tags": [],
            "needs_background": "light"
          }
        }
      ]
    },
    {
      "cell_type": "markdown",
      "metadata": {
        "id": "jtNieSy7qlpA"
      },
      "source": [
        "Create boxplots for numerical data to see distribution of data we have."
      ]
    },
    {
      "cell_type": "code",
      "metadata": {
        "colab": {
          "base_uri": "https://localhost:8080/",
          "height": 814
        },
        "id": "F-8LalvgFm_U",
        "outputId": "b6426e68-6a19-480d-f31d-170f6c1e67a5"
      },
      "source": [
        "numeric_data = X_train[['HHI', 'HHDL', 'AHHAge']]\n",
        "for feature in numeric_data.columns:\n",
        "  sns.boxplot(x=Y, y=feature, data=numeric_data)\n",
        "  plt.show()"
      ],
      "execution_count": null,
      "outputs": [
        {
          "output_type": "display_data",
          "data": {
            "image/png": "[encoded data removed]",
            "text/plain": [
              "<Figure size 432x288 with 1 Axes>"
            ]
          },
          "metadata": {
            "tags": [],
            "needs_background": "light"
          }
        },
        {
          "output_type": "display_data",
          "data": {
            "image/png": "[encoded data removed]",
            "text/plain": [
              "<Figure size 432x288 with 1 Axes>"
            ]
          },
          "metadata": {
            "tags": [],
            "needs_background": "light"
          }
        },
        {
          "output_type": "display_data",
          "data": {
            "image/png": "[encoded data removed]",
            "text/plain": [
              "<Figure size 432x288 with 1 Axes>"
            ]
          },
          "metadata": {
            "tags": [],
            "needs_background": "light"
          }
        }
      ]
    },
    {
      "cell_type": "markdown",
      "metadata": {
        "id": "WA36M4eqG2xZ"
      },
      "source": [
        "Correlation analysis between the continuous variables visualized using a heatmap"
      ]
    },
    {
      "cell_type": "code",
      "metadata": {
        "colab": {
          "base_uri": "https://localhost:8080/",
          "height": 269
        },
        "id": "XZftUxoZG60A",
        "outputId": "7c5bc3b4-e6fa-43cb-bcff-298baa471d48"
      },
      "source": [
        "colormap = sns.diverging_palette(10, 220, as_cmap=True)\n",
        "sns.heatmap(numeric_data.corr(), cmap = colormap, square = True, annot = True)\n",
        "plt.show()"
      ],
      "execution_count": null,
      "outputs": [
        {
          "output_type": "display_data",
          "data": {
            "image/png": "[encoded data removed]",
            "text/plain": [
              "<Figure size 432x288 with 2 Axes>"
            ]
          },
          "metadata": {
            "tags": [],
            "needs_background": "light"
          }
        }
      ]
    },
    {
      "cell_type": "markdown",
      "metadata": {
        "id": "XS9rQahbH12x"
      },
      "source": [
        "Exploratory Data Analysis (EDA) on Categorical data"
      ]
    },
    {
      "cell_type": "code",
      "metadata": {
        "colab": {
          "base_uri": "https://localhost:8080/"
        },
        "id": "901dxAtzH8Sl",
        "outputId": "8dd294ad-17ab-4137-93f5-5b76371749b5"
      },
      "source": [
        "categorical_data = tax_data.drop(numeric_data.columns, axis=1) #drop numerical colums from tax_data\n",
        "categorical_data.nunique() #return number of unique values in each column/feature"
      ],
      "execution_count": null,
      "outputs": [
        {
          "output_type": "execute_result",
          "data": {
            "text/plain": [
              "Unnamed: 0        803\n",
              "Married             3\n",
              "CollegGrads         6\n",
              "Cars                6\n",
              "Filed in 2017       2\n",
              "Filed in 2016       2\n",
              "Filed in 2015       2\n",
              "PoliticalParty      3\n",
              "dtype: int64"
            ]
          },
          "metadata": {
            "tags": []
          },
          "execution_count": 15
        }
      ]
    },
    {
      "cell_type": "markdown",
      "metadata": {
        "id": "bBNq8KJUI9NK"
      },
      "source": [
        "Machine learning models only accept numerical data. The columns Married, CollegeGrads, Cars, Filed in 2017, Filed in 2016, and Filed in 2015 are already split into numbered categories. The only categorical column that is not represented as a number is PoliticalParty (the dependent variable). We will pre-process this variable by creating dummies."
      ]
    },
    {
      "cell_type": "code",
      "metadata": {
        "colab": {
          "base_uri": "https://localhost:8080/",
          "height": 204
        },
        "id": "CwrKpzGDJVTk",
        "outputId": "1b1ff239-5805-43df-bba5-9ffed753a6a4"
      },
      "source": [
        "pParty = y_train.str.get_dummies(sep=' ') # split all the entries separated by space and create dummy variable\n",
        "pParty.head()"
      ],
      "execution_count": null,
      "outputs": [
        {
          "output_type": "execute_result",
          "data": {
            "text/html": [
              "<div>\n",
              "<style scoped>\n",
              "    .dataframe tbody tr th:only-of-type {\n",
              "        vertical-align: middle;\n",
              "    }\n",
              "\n",
              "    .dataframe tbody tr th {\n",
              "        vertical-align: top;\n",
              "    }\n",
              "\n",
              "    .dataframe thead th {\n",
              "        text-align: right;\n",
              "    }\n",
              "</style>\n",
              "<table border=\"1\" class=\"dataframe\">\n",
              "  <thead>\n",
              "    <tr style=\"text-align: right;\">\n",
              "      <th></th>\n",
              "      <th>Democrat</th>\n",
              "      <th>Independent</th>\n",
              "      <th>Republican</th>\n",
              "    </tr>\n",
              "  </thead>\n",
              "  <tbody>\n",
              "    <tr>\n",
              "      <th>309</th>\n",
              "      <td>0</td>\n",
              "      <td>1</td>\n",
              "      <td>0</td>\n",
              "    </tr>\n",
              "    <tr>\n",
              "      <th>433</th>\n",
              "      <td>1</td>\n",
              "      <td>0</td>\n",
              "      <td>0</td>\n",
              "    </tr>\n",
              "    <tr>\n",
              "      <th>613</th>\n",
              "      <td>0</td>\n",
              "      <td>0</td>\n",
              "      <td>1</td>\n",
              "    </tr>\n",
              "    <tr>\n",
              "      <th>108</th>\n",
              "      <td>0</td>\n",
              "      <td>1</td>\n",
              "      <td>0</td>\n",
              "    </tr>\n",
              "    <tr>\n",
              "      <th>800</th>\n",
              "      <td>1</td>\n",
              "      <td>0</td>\n",
              "      <td>0</td>\n",
              "    </tr>\n",
              "  </tbody>\n",
              "</table>\n",
              "</div>"
            ],
            "text/plain": [
              "     Democrat  Independent  Republican\n",
              "309         0            1           0\n",
              "433         1            0           0\n",
              "613         0            0           1\n",
              "108         0            1           0\n",
              "800         1            0           0"
            ]
          },
          "metadata": {
            "tags": []
          },
          "execution_count": 16
        }
      ]
    },
    {
      "cell_type": "markdown",
      "metadata": {
        "id": "u3asRcjzKf_n"
      },
      "source": [
        "We probably don't need to do one hot encoding on categorical variables because these variables are categorized by numbers already."
      ]
    },
    {
      "cell_type": "code",
      "metadata": {
        "colab": {
          "base_uri": "https://localhost:8080/",
          "height": 204
        },
        "id": "bZBj7rAdK8_q",
        "outputId": "08b2f92f-baf2-4888-f351-eb2a27edcd70"
      },
      "source": [
        "X_train.head()"
      ],
      "execution_count": null,
      "outputs": [
        {
          "output_type": "execute_result",
          "data": {
            "text/html": [
              "<div>\n",
              "<style scoped>\n",
              "    .dataframe tbody tr th:only-of-type {\n",
              "        vertical-align: middle;\n",
              "    }\n",
              "\n",
              "    .dataframe tbody tr th {\n",
              "        vertical-align: top;\n",
              "    }\n",
              "\n",
              "    .dataframe thead th {\n",
              "        text-align: right;\n",
              "    }\n",
              "</style>\n",
              "<table border=\"1\" class=\"dataframe\">\n",
              "  <thead>\n",
              "    <tr style=\"text-align: right;\">\n",
              "      <th></th>\n",
              "      <th>Unnamed: 0</th>\n",
              "      <th>HHI</th>\n",
              "      <th>HHDL</th>\n",
              "      <th>Married</th>\n",
              "      <th>CollegGrads</th>\n",
              "      <th>AHHAge</th>\n",
              "      <th>Cars</th>\n",
              "      <th>Filed in 2017</th>\n",
              "      <th>Filed in 2016</th>\n",
              "      <th>Filed in 2015</th>\n",
              "    </tr>\n",
              "  </thead>\n",
              "  <tbody>\n",
              "    <tr>\n",
              "      <th>309</th>\n",
              "      <td>124</td>\n",
              "      <td>238857</td>\n",
              "      <td>-405651</td>\n",
              "      <td>1</td>\n",
              "      <td>5</td>\n",
              "      <td>37</td>\n",
              "      <td>2</td>\n",
              "      <td>0</td>\n",
              "      <td>1</td>\n",
              "      <td>0</td>\n",
              "    </tr>\n",
              "    <tr>\n",
              "      <th>433</th>\n",
              "      <td>861</td>\n",
              "      <td>27895</td>\n",
              "      <td>807147</td>\n",
              "      <td>0</td>\n",
              "      <td>5</td>\n",
              "      <td>43</td>\n",
              "      <td>3</td>\n",
              "      <td>1</td>\n",
              "      <td>0</td>\n",
              "      <td>1</td>\n",
              "    </tr>\n",
              "    <tr>\n",
              "      <th>613</th>\n",
              "      <td>112</td>\n",
              "      <td>36210</td>\n",
              "      <td>-426622</td>\n",
              "      <td>1</td>\n",
              "      <td>4</td>\n",
              "      <td>43</td>\n",
              "      <td>2</td>\n",
              "      <td>1</td>\n",
              "      <td>0</td>\n",
              "      <td>1</td>\n",
              "    </tr>\n",
              "    <tr>\n",
              "      <th>108</th>\n",
              "      <td>78</td>\n",
              "      <td>46758</td>\n",
              "      <td>-753137</td>\n",
              "      <td>1</td>\n",
              "      <td>0</td>\n",
              "      <td>46</td>\n",
              "      <td>2</td>\n",
              "      <td>1</td>\n",
              "      <td>0</td>\n",
              "      <td>0</td>\n",
              "    </tr>\n",
              "    <tr>\n",
              "      <th>800</th>\n",
              "      <td>596</td>\n",
              "      <td>51066</td>\n",
              "      <td>-900262</td>\n",
              "      <td>1</td>\n",
              "      <td>1</td>\n",
              "      <td>67</td>\n",
              "      <td>4</td>\n",
              "      <td>0</td>\n",
              "      <td>0</td>\n",
              "      <td>0</td>\n",
              "    </tr>\n",
              "  </tbody>\n",
              "</table>\n",
              "</div>"
            ],
            "text/plain": [
              "     Unnamed: 0     HHI    HHDL  ...  Filed in 2017  Filed in 2016  Filed in 2015\n",
              "309         124  238857 -405651  ...              0              1              0\n",
              "433         861   27895  807147  ...              1              0              1\n",
              "613         112   36210 -426622  ...              1              0              1\n",
              "108          78   46758 -753137  ...              1              0              0\n",
              "800         596   51066 -900262  ...              0              0              0\n",
              "\n",
              "[5 rows x 10 columns]"
            ]
          },
          "metadata": {
            "tags": []
          },
          "execution_count": 23
        }
      ]
    },
    {
      "cell_type": "markdown",
      "metadata": {
        "id": "-XWyDrCPMyLW"
      },
      "source": [
        "We will create another train that drops column 'Unnamed: 0' because we are not sure what it is and whether it has useful information in terms of determining the person's political party. We will see if it has useful information later."
      ]
    },
    {
      "cell_type": "code",
      "metadata": {
        "id": "ttl1YI7xMkyp"
      },
      "source": [
        "X_train2 = X_train.drop(['Unnamed: 0'], axis = 1)"
      ],
      "execution_count": null,
      "outputs": []
    },
    {
      "cell_type": "code",
      "metadata": {
        "colab": {
          "base_uri": "https://localhost:8080/"
        },
        "id": "x2pPlrwwMWLE",
        "outputId": "3bc1feda-474e-455b-8419-649c5743d83a"
      },
      "source": [
        "X_train.info()"
      ],
      "execution_count": null,
      "outputs": [
        {
          "output_type": "stream",
          "text": [
            "<class 'pandas.core.frame.DataFrame'>\n",
            "Int64Index: 642 entries, 309 to 37\n",
            "Data columns (total 10 columns):\n",
            " #   Column         Non-Null Count  Dtype\n",
            "---  ------         --------------  -----\n",
            " 0   Unnamed: 0     642 non-null    int64\n",
            " 1   HHI            642 non-null    int64\n",
            " 2   HHDL           642 non-null    int64\n",
            " 3   Married        642 non-null    int64\n",
            " 4   CollegGrads    642 non-null    int64\n",
            " 5   AHHAge         642 non-null    int64\n",
            " 6   Cars           642 non-null    int64\n",
            " 7   Filed in 2017  642 non-null    int64\n",
            " 8   Filed in 2016  642 non-null    int64\n",
            " 9   Filed in 2015  642 non-null    int64\n",
            "dtypes: int64(10)\n",
            "memory usage: 55.2 KB\n"
          ],
          "name": "stdout"
        }
      ]
    },
    {
      "cell_type": "code",
      "metadata": {
        "colab": {
          "base_uri": "https://localhost:8080/"
        },
        "id": "HLRYb1Q5q91b",
        "outputId": "a0a8d815-1e5f-4f3a-f9ed-4f91055ea0d6"
      },
      "source": [
        "X_train2.info()"
      ],
      "execution_count": null,
      "outputs": [
        {
          "output_type": "stream",
          "text": [
            "<class 'pandas.core.frame.DataFrame'>\n",
            "Int64Index: 642 entries, 309 to 37\n",
            "Data columns (total 9 columns):\n",
            " #   Column         Non-Null Count  Dtype\n",
            "---  ------         --------------  -----\n",
            " 0   HHI            642 non-null    int64\n",
            " 1   HHDL           642 non-null    int64\n",
            " 2   Married        642 non-null    int64\n",
            " 3   CollegGrads    642 non-null    int64\n",
            " 4   AHHAge         642 non-null    int64\n",
            " 5   Cars           642 non-null    int64\n",
            " 6   Filed in 2017  642 non-null    int64\n",
            " 7   Filed in 2016  642 non-null    int64\n",
            " 8   Filed in 2015  642 non-null    int64\n",
            "dtypes: int64(9)\n",
            "memory usage: 50.2 KB\n"
          ],
          "name": "stdout"
        }
      ]
    },
    {
      "cell_type": "markdown",
      "metadata": {
        "id": "RFSVXcr4NULc"
      },
      "source": [
        "# Testing Models"
      ]
    },
    {
      "cell_type": "markdown",
      "metadata": {
        "id": "hDom6j5LN_qJ"
      },
      "source": [
        "We need to preprocess and clean the test data the same way that the train data was."
      ]
    },
    {
      "cell_type": "code",
      "metadata": {
        "colab": {
          "base_uri": "https://localhost:8080/",
          "height": 204
        },
        "id": "n0j7FJcusv0B",
        "outputId": "f42ef046-41e9-4085-838f-da76ea6a4fae"
      },
      "source": [
        "X_test.head()"
      ],
      "execution_count": null,
      "outputs": [
        {
          "output_type": "execute_result",
          "data": {
            "text/html": [
              "<div>\n",
              "<style scoped>\n",
              "    .dataframe tbody tr th:only-of-type {\n",
              "        vertical-align: middle;\n",
              "    }\n",
              "\n",
              "    .dataframe tbody tr th {\n",
              "        vertical-align: top;\n",
              "    }\n",
              "\n",
              "    .dataframe thead th {\n",
              "        text-align: right;\n",
              "    }\n",
              "</style>\n",
              "<table border=\"1\" class=\"dataframe\">\n",
              "  <thead>\n",
              "    <tr style=\"text-align: right;\">\n",
              "      <th></th>\n",
              "      <th>Unnamed: 0</th>\n",
              "      <th>HHI</th>\n",
              "      <th>HHDL</th>\n",
              "      <th>Married</th>\n",
              "      <th>CollegGrads</th>\n",
              "      <th>AHHAge</th>\n",
              "      <th>Cars</th>\n",
              "      <th>Filed in 2017</th>\n",
              "      <th>Filed in 2016</th>\n",
              "      <th>Filed in 2015</th>\n",
              "    </tr>\n",
              "  </thead>\n",
              "  <tbody>\n",
              "    <tr>\n",
              "      <th>8</th>\n",
              "      <td>261</td>\n",
              "      <td>153930</td>\n",
              "      <td>494379</td>\n",
              "      <td>1</td>\n",
              "      <td>2</td>\n",
              "      <td>40</td>\n",
              "      <td>0</td>\n",
              "      <td>0</td>\n",
              "      <td>1</td>\n",
              "      <td>1</td>\n",
              "    </tr>\n",
              "    <tr>\n",
              "      <th>790</th>\n",
              "      <td>434</td>\n",
              "      <td>267461</td>\n",
              "      <td>-290422</td>\n",
              "      <td>1</td>\n",
              "      <td>1</td>\n",
              "      <td>98</td>\n",
              "      <td>0</td>\n",
              "      <td>1</td>\n",
              "      <td>1</td>\n",
              "      <td>1</td>\n",
              "    </tr>\n",
              "    <tr>\n",
              "      <th>571</th>\n",
              "      <td>39</td>\n",
              "      <td>153052</td>\n",
              "      <td>-606726</td>\n",
              "      <td>1</td>\n",
              "      <td>2</td>\n",
              "      <td>75</td>\n",
              "      <td>2</td>\n",
              "      <td>1</td>\n",
              "      <td>0</td>\n",
              "      <td>1</td>\n",
              "    </tr>\n",
              "    <tr>\n",
              "      <th>224</th>\n",
              "      <td>797</td>\n",
              "      <td>75698</td>\n",
              "      <td>-100753</td>\n",
              "      <td>2</td>\n",
              "      <td>3</td>\n",
              "      <td>39</td>\n",
              "      <td>1</td>\n",
              "      <td>0</td>\n",
              "      <td>0</td>\n",
              "      <td>1</td>\n",
              "    </tr>\n",
              "    <tr>\n",
              "      <th>498</th>\n",
              "      <td>996</td>\n",
              "      <td>275991</td>\n",
              "      <td>274256</td>\n",
              "      <td>1</td>\n",
              "      <td>0</td>\n",
              "      <td>81</td>\n",
              "      <td>1</td>\n",
              "      <td>1</td>\n",
              "      <td>0</td>\n",
              "      <td>0</td>\n",
              "    </tr>\n",
              "  </tbody>\n",
              "</table>\n",
              "</div>"
            ],
            "text/plain": [
              "     Unnamed: 0     HHI    HHDL  ...  Filed in 2017  Filed in 2016  Filed in 2015\n",
              "8           261  153930  494379  ...              0              1              1\n",
              "790         434  267461 -290422  ...              1              1              1\n",
              "571          39  153052 -606726  ...              1              0              1\n",
              "224         797   75698 -100753  ...              0              0              1\n",
              "498         996  275991  274256  ...              1              0              0\n",
              "\n",
              "[5 rows x 10 columns]"
            ]
          },
          "metadata": {
            "tags": []
          },
          "execution_count": 27
        }
      ]
    },
    {
      "cell_type": "markdown",
      "metadata": {
        "id": "QC7tVKG0r3XQ"
      },
      "source": [
        "One hot encoding for categorical variable in y_test"
      ]
    },
    {
      "cell_type": "code",
      "metadata": {
        "colab": {
          "base_uri": "https://localhost:8080/",
          "height": 204
        },
        "id": "EcgOXppNr3Ij",
        "outputId": "5d4e0616-1329-4078-cdb5-adbd8e8a87b9"
      },
      "source": [
        "pParty = y_test.str.get_dummies(sep=' ') # split all the entries separated by space and create dummy variable\n",
        "pParty.head()"
      ],
      "execution_count": null,
      "outputs": [
        {
          "output_type": "execute_result",
          "data": {
            "text/html": [
              "<div>\n",
              "<style scoped>\n",
              "    .dataframe tbody tr th:only-of-type {\n",
              "        vertical-align: middle;\n",
              "    }\n",
              "\n",
              "    .dataframe tbody tr th {\n",
              "        vertical-align: top;\n",
              "    }\n",
              "\n",
              "    .dataframe thead th {\n",
              "        text-align: right;\n",
              "    }\n",
              "</style>\n",
              "<table border=\"1\" class=\"dataframe\">\n",
              "  <thead>\n",
              "    <tr style=\"text-align: right;\">\n",
              "      <th></th>\n",
              "      <th>Democrat</th>\n",
              "      <th>Independent</th>\n",
              "      <th>Republican</th>\n",
              "    </tr>\n",
              "  </thead>\n",
              "  <tbody>\n",
              "    <tr>\n",
              "      <th>8</th>\n",
              "      <td>0</td>\n",
              "      <td>1</td>\n",
              "      <td>0</td>\n",
              "    </tr>\n",
              "    <tr>\n",
              "      <th>790</th>\n",
              "      <td>0</td>\n",
              "      <td>1</td>\n",
              "      <td>0</td>\n",
              "    </tr>\n",
              "    <tr>\n",
              "      <th>571</th>\n",
              "      <td>1</td>\n",
              "      <td>0</td>\n",
              "      <td>0</td>\n",
              "    </tr>\n",
              "    <tr>\n",
              "      <th>224</th>\n",
              "      <td>0</td>\n",
              "      <td>0</td>\n",
              "      <td>1</td>\n",
              "    </tr>\n",
              "    <tr>\n",
              "      <th>498</th>\n",
              "      <td>1</td>\n",
              "      <td>0</td>\n",
              "      <td>0</td>\n",
              "    </tr>\n",
              "  </tbody>\n",
              "</table>\n",
              "</div>"
            ],
            "text/plain": [
              "     Democrat  Independent  Republican\n",
              "8           0            1           0\n",
              "790         0            1           0\n",
              "571         1            0           0\n",
              "224         0            0           1\n",
              "498         1            0           0"
            ]
          },
          "metadata": {
            "tags": []
          },
          "execution_count": 28
        }
      ]
    },
    {
      "cell_type": "markdown",
      "metadata": {
        "id": "zRfD-Cyi4Xws"
      },
      "source": [
        "Drop column 'Unnamed: 0' for another test."
      ]
    },
    {
      "cell_type": "code",
      "metadata": {
        "id": "uPiLobWMrIqX"
      },
      "source": [
        "X_test2 = X_test.drop(['Unnamed: 0'], axis = 1)"
      ],
      "execution_count": null,
      "outputs": []
    },
    {
      "cell_type": "markdown",
      "metadata": {
        "id": "VH38eHcXO8qq"
      },
      "source": [
        "# Model Building\n",
        "\n",
        "### 1. Logistic Regression Model\n",
        "\n",
        "With column 'Unnamed: 0'"
      ]
    },
    {
      "cell_type": "code",
      "metadata": {
        "colab": {
          "base_uri": "https://localhost:8080/"
        },
        "id": "2pATTLGvZok1",
        "outputId": "8ac32ffa-5b09-4ec6-a703-68872d769272"
      },
      "source": [
        "model1 = LogisticRegression()   \n",
        "model1.fit(X_train,y_train)"
      ],
      "execution_count": null,
      "outputs": [
        {
          "output_type": "execute_result",
          "data": {
            "text/plain": [
              "LogisticRegression(C=1.0, class_weight=None, dual=False, fit_intercept=True,\n",
              "                   intercept_scaling=1, l1_ratio=None, max_iter=100,\n",
              "                   multi_class='auto', n_jobs=None, penalty='l2',\n",
              "                   random_state=None, solver='lbfgs', tol=0.0001, verbose=0,\n",
              "                   warm_start=False)"
            ]
          },
          "metadata": {
            "tags": []
          },
          "execution_count": 30
        }
      ]
    },
    {
      "cell_type": "markdown",
      "metadata": {
        "id": "RoOvIpWt5LCr"
      },
      "source": [
        "Without column 'Unnamed: 0'"
      ]
    },
    {
      "cell_type": "code",
      "metadata": {
        "id": "5uzSE5ly5M_L"
      },
      "source": [
        "model2 = LogisticRegression()   \n",
        "model2.fit(X_train2,y_train)"
      ],
      "execution_count": null,
      "outputs": []
    },
    {
      "cell_type": "markdown",
      "metadata": {
        "id": "GQHmOh1OcNya"
      },
      "source": [
        "###Model Evaluation"
      ]
    },
    {
      "cell_type": "code",
      "metadata": {
        "colab": {
          "base_uri": "https://localhost:8080/",
          "height": 204
        },
        "id": "ROpqShh535rp",
        "outputId": "1ffd3b54-16e3-43e6-d603-39400a5a089c"
      },
      "source": [
        "test_Xdata = X_test.copy()\n",
        "test_Xdata.head()"
      ],
      "execution_count": null,
      "outputs": [
        {
          "output_type": "execute_result",
          "data": {
            "text/html": [
              "<div>\n",
              "<style scoped>\n",
              "    .dataframe tbody tr th:only-of-type {\n",
              "        vertical-align: middle;\n",
              "    }\n",
              "\n",
              "    .dataframe tbody tr th {\n",
              "        vertical-align: top;\n",
              "    }\n",
              "\n",
              "    .dataframe thead th {\n",
              "        text-align: right;\n",
              "    }\n",
              "</style>\n",
              "<table border=\"1\" class=\"dataframe\">\n",
              "  <thead>\n",
              "    <tr style=\"text-align: right;\">\n",
              "      <th></th>\n",
              "      <th>Unnamed: 0</th>\n",
              "      <th>HHI</th>\n",
              "      <th>HHDL</th>\n",
              "      <th>Married</th>\n",
              "      <th>CollegGrads</th>\n",
              "      <th>AHHAge</th>\n",
              "      <th>Cars</th>\n",
              "      <th>Filed in 2017</th>\n",
              "      <th>Filed in 2016</th>\n",
              "      <th>Filed in 2015</th>\n",
              "    </tr>\n",
              "  </thead>\n",
              "  <tbody>\n",
              "    <tr>\n",
              "      <th>8</th>\n",
              "      <td>261</td>\n",
              "      <td>153930</td>\n",
              "      <td>494379</td>\n",
              "      <td>1</td>\n",
              "      <td>2</td>\n",
              "      <td>40</td>\n",
              "      <td>0</td>\n",
              "      <td>0</td>\n",
              "      <td>1</td>\n",
              "      <td>1</td>\n",
              "    </tr>\n",
              "    <tr>\n",
              "      <th>790</th>\n",
              "      <td>434</td>\n",
              "      <td>267461</td>\n",
              "      <td>-290422</td>\n",
              "      <td>1</td>\n",
              "      <td>1</td>\n",
              "      <td>98</td>\n",
              "      <td>0</td>\n",
              "      <td>1</td>\n",
              "      <td>1</td>\n",
              "      <td>1</td>\n",
              "    </tr>\n",
              "    <tr>\n",
              "      <th>571</th>\n",
              "      <td>39</td>\n",
              "      <td>153052</td>\n",
              "      <td>-606726</td>\n",
              "      <td>1</td>\n",
              "      <td>2</td>\n",
              "      <td>75</td>\n",
              "      <td>2</td>\n",
              "      <td>1</td>\n",
              "      <td>0</td>\n",
              "      <td>1</td>\n",
              "    </tr>\n",
              "    <tr>\n",
              "      <th>224</th>\n",
              "      <td>797</td>\n",
              "      <td>75698</td>\n",
              "      <td>-100753</td>\n",
              "      <td>2</td>\n",
              "      <td>3</td>\n",
              "      <td>39</td>\n",
              "      <td>1</td>\n",
              "      <td>0</td>\n",
              "      <td>0</td>\n",
              "      <td>1</td>\n",
              "    </tr>\n",
              "    <tr>\n",
              "      <th>498</th>\n",
              "      <td>996</td>\n",
              "      <td>275991</td>\n",
              "      <td>274256</td>\n",
              "      <td>1</td>\n",
              "      <td>0</td>\n",
              "      <td>81</td>\n",
              "      <td>1</td>\n",
              "      <td>1</td>\n",
              "      <td>0</td>\n",
              "      <td>0</td>\n",
              "    </tr>\n",
              "  </tbody>\n",
              "</table>\n",
              "</div>"
            ],
            "text/plain": [
              "     Unnamed: 0     HHI    HHDL  ...  Filed in 2017  Filed in 2016  Filed in 2015\n",
              "8           261  153930  494379  ...              0              1              1\n",
              "790         434  267461 -290422  ...              1              1              1\n",
              "571          39  153052 -606726  ...              1              0              1\n",
              "224         797   75698 -100753  ...              0              0              1\n",
              "498         996  275991  274256  ...              1              0              0\n",
              "\n",
              "[5 rows x 10 columns]"
            ]
          },
          "metadata": {
            "tags": []
          },
          "execution_count": 31
        }
      ]
    },
    {
      "cell_type": "code",
      "metadata": {
        "colab": {
          "base_uri": "https://localhost:8080/"
        },
        "id": "gS7UQvEvAdzX",
        "outputId": "307d3bc0-228b-4990-c4a0-b3f9fd9de6fc"
      },
      "source": [
        "y_test.head()"
      ],
      "execution_count": null,
      "outputs": [
        {
          "output_type": "execute_result",
          "data": {
            "text/plain": [
              "8      Independent\n",
              "790    Independent\n",
              "571       Democrat\n",
              "224     Republican\n",
              "498       Democrat\n",
              "Name: PoliticalParty, dtype: object"
            ]
          },
          "metadata": {
            "tags": []
          },
          "execution_count": 35
        }
      ]
    },
    {
      "cell_type": "markdown",
      "metadata": {
        "id": "gO-tBElD5R5K"
      },
      "source": [
        "With column 'Unnamed: 0'"
      ]
    },
    {
      "cell_type": "code",
      "metadata": {
        "colab": {
          "base_uri": "https://localhost:8080/"
        },
        "id": "LpaTHfhLsU91",
        "outputId": "31468ce8-6a91-4ce2-f17c-62bdb2a695db"
      },
      "source": [
        "accuracy_score(y_test, model1.predict(test_Xdata))"
      ],
      "execution_count": null,
      "outputs": [
        {
          "output_type": "execute_result",
          "data": {
            "text/plain": [
              "0.35403726708074534"
            ]
          },
          "metadata": {
            "tags": []
          },
          "execution_count": 35
        }
      ]
    },
    {
      "cell_type": "code",
      "metadata": {
        "colab": {
          "base_uri": "https://localhost:8080/"
        },
        "id": "MyTl2lU8T4OZ",
        "outputId": "08e393ae-92d9-40c7-fb96-e65518fd0dc5"
      },
      "source": [
        "f1_score(y_test, model1.predict(test_Xdata), average='micro')"
      ],
      "execution_count": null,
      "outputs": [
        {
          "output_type": "execute_result",
          "data": {
            "text/plain": [
              "0.3540372670807454"
            ]
          },
          "metadata": {
            "tags": []
          },
          "execution_count": 36
        }
      ]
    },
    {
      "cell_type": "code",
      "metadata": {
        "colab": {
          "base_uri": "https://localhost:8080/"
        },
        "id": "uteDZeXJUApm",
        "outputId": "190bd4fa-f319-4771-a0d9-fd852ba1587f"
      },
      "source": [
        "f1_score(y_test, model1.predict(test_Xdata), average='macro')"
      ],
      "execution_count": null,
      "outputs": [
        {
          "output_type": "execute_result",
          "data": {
            "text/plain": [
              "0.35629973169589313"
            ]
          },
          "metadata": {
            "tags": []
          },
          "execution_count": 37
        }
      ]
    },
    {
      "cell_type": "code",
      "metadata": {
        "colab": {
          "base_uri": "https://localhost:8080/"
        },
        "id": "IitfwpiDUCsq",
        "outputId": "4bab597b-cf10-408c-845b-ab0a244c9522"
      },
      "source": [
        "f1_score(y_test, model1.predict(test_Xdata), average='weighted')"
      ],
      "execution_count": null,
      "outputs": [
        {
          "output_type": "execute_result",
          "data": {
            "text/plain": [
              "0.3581203742740637"
            ]
          },
          "metadata": {
            "tags": []
          },
          "execution_count": 38
        }
      ]
    },
    {
      "cell_type": "markdown",
      "metadata": {
        "id": "bXu4Q7oErbs1"
      },
      "source": [
        "Without column 'Unnamed: 0'"
      ]
    },
    {
      "cell_type": "code",
      "metadata": {
        "colab": {
          "base_uri": "https://localhost:8080/"
        },
        "id": "Gk19FHaCrlXX",
        "outputId": "28eab389-a5ef-4c55-a7cf-ff78ca9b775e"
      },
      "source": [
        "accuracy_score(y_test, model2.predict(X_test2))"
      ],
      "execution_count": null,
      "outputs": [
        {
          "output_type": "execute_result",
          "data": {
            "text/plain": [
              "0.2795031055900621"
            ]
          },
          "metadata": {
            "tags": []
          },
          "execution_count": 40
        }
      ]
    },
    {
      "cell_type": "markdown",
      "metadata": {
        "id": "i9MuHU75r0kT"
      },
      "source": [
        "We observe that the logistic regression model with column \"Unnamed: 0\" has a better accuracy score.\n",
        "\n",
        "\n"
      ]
    },
    {
      "cell_type": "markdown",
      "metadata": {
        "id": "zl46y6JHNYuP"
      },
      "source": [
        "### 2. Random Forest"
      ]
    },
    {
      "cell_type": "code",
      "metadata": {
        "id": "IviT6ZCeNueA"
      },
      "source": [
        "from sklearn.feature_selection import SelectFromModel\n",
        "from sklearn.metrics import accuracy_score, f1_score\n",
        "from sklearn.ensemble import RandomForestClassifier"
      ],
      "execution_count": null,
      "outputs": []
    },
    {
      "cell_type": "markdown",
      "metadata": {
        "id": "0r8RGsSf5rhA"
      },
      "source": [
        "With column 'Unnamed: 0'"
      ]
    },
    {
      "cell_type": "code",
      "metadata": {
        "colab": {
          "base_uri": "https://localhost:8080/"
        },
        "id": "qgu0WEtYNx_K",
        "outputId": "c3e67610-e0a5-4476-9265-f82ff4b69e4b"
      },
      "source": [
        "forest1 = RandomForestClassifier(random_state=1, n_estimators=1000, max_depth=5)\n",
        " \n",
        "forest1.fit(X_train, y_train)"
      ],
      "execution_count": null,
      "outputs": [
        {
          "output_type": "execute_result",
          "data": {
            "text/plain": [
              "RandomForestClassifier(bootstrap=True, ccp_alpha=0.0, class_weight=None,\n",
              "                       criterion='gini', max_depth=5, max_features='auto',\n",
              "                       max_leaf_nodes=None, max_samples=None,\n",
              "                       min_impurity_decrease=0.0, min_impurity_split=None,\n",
              "                       min_samples_leaf=1, min_samples_split=2,\n",
              "                       min_weight_fraction_leaf=0.0, n_estimators=1000,\n",
              "                       n_jobs=None, oob_score=False, random_state=1, verbose=0,\n",
              "                       warm_start=False)"
            ]
          },
          "metadata": {
            "tags": []
          },
          "execution_count": 51
        }
      ]
    },
    {
      "cell_type": "markdown",
      "metadata": {
        "id": "8beC14La5tjG"
      },
      "source": [
        "Without column 'Unnamed: 0'"
      ]
    },
    {
      "cell_type": "code",
      "metadata": {
        "id": "kzeATQ2A5vsx"
      },
      "source": [
        "forest2 = RandomForestClassifier(random_state=1, n_estimators=1000, max_depth=5)\n",
        "forest2.fit(X_train2, y_train)"
      ],
      "execution_count": null,
      "outputs": []
    },
    {
      "cell_type": "markdown",
      "metadata": {
        "id": "xa466zzm3JyA"
      },
      "source": [
        "###Model Evaluation"
      ]
    },
    {
      "cell_type": "markdown",
      "metadata": {
        "id": "1EAHnDmB5xq2"
      },
      "source": [
        "With column 'Unnamed: 0'"
      ]
    },
    {
      "cell_type": "code",
      "metadata": {
        "colab": {
          "base_uri": "https://localhost:8080/"
        },
        "id": "7spUHv6qOoQ8",
        "outputId": "896545d9-2f61-48b8-e341-317c89145577"
      },
      "source": [
        "accuracy_score(y_test, forest1.predict(test_Xdata))"
      ],
      "execution_count": null,
      "outputs": [
        {
          "output_type": "execute_result",
          "data": {
            "text/plain": [
              "0.36645962732919257"
            ]
          },
          "metadata": {
            "tags": []
          },
          "execution_count": 52
        }
      ]
    },
    {
      "cell_type": "markdown",
      "metadata": {
        "id": "ZzPPmxgWsMcX"
      },
      "source": [
        "Without column 'Unnamed: 0'"
      ]
    },
    {
      "cell_type": "code",
      "metadata": {
        "colab": {
          "base_uri": "https://localhost:8080/"
        },
        "id": "nvqY7GZTsShX",
        "outputId": "f1554cd1-1dd2-4524-816a-5bd24a7f13cc"
      },
      "source": [
        "accuracy_score(y_test, forest2.predict(X_test2))"
      ],
      "execution_count": null,
      "outputs": [
        {
          "output_type": "execute_result",
          "data": {
            "text/plain": [
              "0.38509316770186336"
            ]
          },
          "metadata": {
            "tags": []
          },
          "execution_count": 54
        }
      ]
    },
    {
      "cell_type": "markdown",
      "metadata": {
        "id": "fkWGBPQ9sVwI"
      },
      "source": [
        "We observe that the random forest model does better without the column \"Unnamed: 0\""
      ]
    },
    {
      "cell_type": "code",
      "metadata": {
        "colab": {
          "base_uri": "https://localhost:8080/"
        },
        "id": "Sl-vHCaF2_-_",
        "outputId": "46d2f364-1ce0-4726-f7f6-0992f9c10436"
      },
      "source": [
        "print(\"Logistic Regression: \", accuracy_score(y_test, model1.predict(test_Xdata)))\n",
        "print(\"Logistic Regression without 'Unnamed: 0':\", accuracy_score(y_test, model2.predict(X_test2)))\n",
        "print(\"Random Forest: \", accuracy_score(y_test, forest1.predict(test_Xdata)))\n",
        "print(\"Random Forest without 'Unnamed: 0': \", accuracy_score(y_test, forest2.predict(X_test2)))"
      ],
      "execution_count": null,
      "outputs": [
        {
          "output_type": "stream",
          "text": [
            "Logistic Regression:  0.35403726708074534\n",
            "Logistic Regression without 'Unnamed: 0': 0.2795031055900621\n",
            "Random Forest:  0.36645962732919257\n",
            "Random Forest without 'Unnamed: 0':  0.38509316770186336\n"
          ],
          "name": "stdout"
        }
      ]
    },
    {
      "cell_type": "markdown",
      "metadata": {
        "id": "SiuKSRCC64QW"
      },
      "source": [
        "### 3. Random Forest and Boruta"
      ]
    },
    {
      "cell_type": "code",
      "metadata": {
        "colab": {
          "base_uri": "https://localhost:8080/"
        },
        "id": "zEK0WGB369I4",
        "outputId": "c496d7af-722b-40c4-80d5-9f37502ad99b"
      },
      "source": [
        "# install Boruta\n",
        "!pip install Boruta"
      ],
      "execution_count": null,
      "outputs": [
        {
          "output_type": "stream",
          "text": [
            "Collecting Boruta\n",
            "\u001b[?25l  Downloading https://files.pythonhosted.org/packages/b2/11/583f4eac99d802c79af9217e1eff56027742a69e6c866b295cce6a5a8fc2/Boruta-0.3-py3-none-any.whl (56kB)\n",
            "\r\u001b[K     |█████▉                          | 10kB 13.3MB/s eta 0:00:01\r\u001b[K     |███████████▋                    | 20kB 18.2MB/s eta 0:00:01\r\u001b[K     |█████████████████▍              | 30kB 11.1MB/s eta 0:00:01\r\u001b[K     |███████████████████████▏        | 40kB 8.5MB/s eta 0:00:01\r\u001b[K     |█████████████████████████████   | 51kB 4.4MB/s eta 0:00:01\r\u001b[K     |████████████████████████████████| 61kB 3.1MB/s \n",
            "\u001b[?25hRequirement already satisfied: scikit-learn>=0.17.1 in /usr/local/lib/python3.6/dist-packages (from Boruta) (0.22.2.post1)\n",
            "Requirement already satisfied: numpy>=1.10.4 in /usr/local/lib/python3.6/dist-packages (from Boruta) (1.18.5)\n",
            "Requirement already satisfied: scipy>=0.17.0 in /usr/local/lib/python3.6/dist-packages (from Boruta) (1.4.1)\n",
            "Requirement already satisfied: joblib>=0.11 in /usr/local/lib/python3.6/dist-packages (from scikit-learn>=0.17.1->Boruta) (0.17.0)\n",
            "Installing collected packages: Boruta\n",
            "Successfully installed Boruta-0.3\n"
          ],
          "name": "stdout"
        }
      ]
    },
    {
      "cell_type": "code",
      "metadata": {
        "id": "ndikp2ZU7C0k"
      },
      "source": [
        "from boruta import BorutaPy"
      ],
      "execution_count": null,
      "outputs": []
    },
    {
      "cell_type": "code",
      "metadata": {
        "colab": {
          "base_uri": "https://localhost:8080/"
        },
        "id": "_9RVzX_I7FRo",
        "outputId": "d8f66fce-2def-45d8-cf89-c811b7121a9d"
      },
      "source": [
        "rfc = RandomForestClassifier(random_state=1, n_estimators=1000, max_depth=5)\n",
        "boruta_selector = BorutaPy(rfc, n_estimators='auto', verbose=2, random_state=1)   # initialize the boruta selector\n",
        "boruta_selector.fit(np.array(X_train), np.array(y_train))       # fitting the boruta selector to get all relavent features. \n",
        "# NOTE: BorutaPy accepts numpy arrays only."
      ],
      "execution_count": null,
      "outputs": [
        {
          "output_type": "stream",
          "text": [
            "Iteration: \t1 / 100\n",
            "Confirmed: \t0\n",
            "Tentative: \t10\n",
            "Rejected: \t0\n",
            "Iteration: \t2 / 100\n",
            "Confirmed: \t0\n",
            "Tentative: \t10\n",
            "Rejected: \t0\n",
            "Iteration: \t3 / 100\n",
            "Confirmed: \t0\n",
            "Tentative: \t10\n",
            "Rejected: \t0\n",
            "Iteration: \t4 / 100\n",
            "Confirmed: \t0\n",
            "Tentative: \t10\n",
            "Rejected: \t0\n",
            "Iteration: \t5 / 100\n",
            "Confirmed: \t0\n",
            "Tentative: \t10\n",
            "Rejected: \t0\n",
            "Iteration: \t6 / 100\n",
            "Confirmed: \t0\n",
            "Tentative: \t10\n",
            "Rejected: \t0\n",
            "Iteration: \t7 / 100\n",
            "Confirmed: \t0\n",
            "Tentative: \t10\n",
            "Rejected: \t0\n",
            "Iteration: \t8 / 100\n",
            "Confirmed: \t0\n",
            "Tentative: \t3\n",
            "Rejected: \t7\n",
            "Iteration: \t9 / 100\n",
            "Confirmed: \t0\n",
            "Tentative: \t3\n",
            "Rejected: \t7\n",
            "Iteration: \t10 / 100\n",
            "Confirmed: \t0\n",
            "Tentative: \t3\n",
            "Rejected: \t7\n",
            "Iteration: \t11 / 100\n",
            "Confirmed: \t0\n",
            "Tentative: \t3\n",
            "Rejected: \t7\n",
            "Iteration: \t12 / 100\n",
            "Confirmed: \t0\n",
            "Tentative: \t2\n",
            "Rejected: \t8\n",
            "Iteration: \t13 / 100\n",
            "Confirmed: \t0\n",
            "Tentative: \t2\n",
            "Rejected: \t8\n",
            "Iteration: \t14 / 100\n",
            "Confirmed: \t0\n",
            "Tentative: \t2\n",
            "Rejected: \t8\n",
            "Iteration: \t15 / 100\n",
            "Confirmed: \t0\n",
            "Tentative: \t2\n",
            "Rejected: \t8\n",
            "Iteration: \t16 / 100\n",
            "Confirmed: \t0\n",
            "Tentative: \t2\n",
            "Rejected: \t8\n",
            "Iteration: \t17 / 100\n",
            "Confirmed: \t0\n",
            "Tentative: \t2\n",
            "Rejected: \t8\n",
            "Iteration: \t18 / 100\n",
            "Confirmed: \t0\n",
            "Tentative: \t2\n",
            "Rejected: \t8\n",
            "Iteration: \t19 / 100\n",
            "Confirmed: \t0\n",
            "Tentative: \t0\n",
            "Rejected: \t10\n",
            "\n",
            "\n",
            "BorutaPy finished running.\n",
            "\n",
            "Iteration: \t20 / 100\n",
            "Confirmed: \t0\n",
            "Tentative: \t0\n",
            "Rejected: \t10\n"
          ],
          "name": "stdout"
        },
        {
          "output_type": "execute_result",
          "data": {
            "text/plain": [
              "BorutaPy(alpha=0.05,\n",
              "         estimator=RandomForestClassifier(bootstrap=True, ccp_alpha=0.0,\n",
              "                                          class_weight=None, criterion='gini',\n",
              "                                          max_depth=5, max_features='auto',\n",
              "                                          max_leaf_nodes=None, max_samples=None,\n",
              "                                          min_impurity_decrease=0.0,\n",
              "                                          min_impurity_split=None,\n",
              "                                          min_samples_leaf=1,\n",
              "                                          min_samples_split=2,\n",
              "                                          min_weight_fraction_leaf=0.0,\n",
              "                                          n_estimators=40, n_jobs=None,\n",
              "                                          oob_score=False,\n",
              "                                          random_state=RandomState(MT19937) at 0x7FE83BC94258,\n",
              "                                          verbose=0, warm_start=False),\n",
              "         max_iter=100, n_estimators='auto', perc=100,\n",
              "         random_state=RandomState(MT19937) at 0x7FE83BC94258, two_step=True,\n",
              "         verbose=2)"
            ]
          },
          "metadata": {
            "tags": []
          },
          "execution_count": 61
        }
      ]
    },
    {
      "cell_type": "code",
      "metadata": {
        "colab": {
          "base_uri": "https://localhost:8080/"
        },
        "id": "IFPSfma77bxX",
        "outputId": "ecea900d-a22e-44d0-8fcf-a12fa8f10dac"
      },
      "source": [
        "print(\"Selected Features: \", boruta_selector.support_)    # check selected features\n",
        " \n",
        "\n",
        "print(\"Ranking: \",boruta_selector.ranking_)               # check ranking of features\n",
        "\n",
        "print(\"No. of significant features: \", boruta_selector.n_features_)"
      ],
      "execution_count": null,
      "outputs": [
        {
          "output_type": "stream",
          "text": [
            "Selected Features:  [False False False False False False False False False False]\n",
            "Ranking:  [ 3  2  2  7  6  4  5  8  9 10]\n",
            "No. of significant features:  0\n"
          ],
          "name": "stdout"
        }
      ]
    },
    {
      "cell_type": "markdown",
      "metadata": {
        "id": "SDxrEKs88zcS"
      },
      "source": [
        "Hmm... Boruta says there are 0 significant features. Maybe I did something wrong? Boruta doesn't work well with this data?"
      ]
    },
    {
      "cell_type": "markdown",
      "metadata": {
        "id": "NaPQDBWiNowf"
      },
      "source": [
        "# Test Dataset\n",
        "Load the test data (name it as test_data). You can load the data using the below command.\n",
        "\n",
        "Here the target column is deliberately not there as you need to predict it"
      ]
    },
    {
      "cell_type": "code",
      "metadata": {
        "id": "IJXjA4SANqcL"
      },
      "source": [
        "test_data = pd.read_csv('https://raw.githubusercontent.com/dphi-official/Datasets/master/tax_payers/test_set_label.csv')"
      ],
      "execution_count": null,
      "outputs": []
    },
    {
      "cell_type": "code",
      "metadata": {
        "colab": {
          "base_uri": "https://localhost:8080/",
          "height": 204
        },
        "id": "6hOhL38rN1yn",
        "outputId": "c9163cbe-9b66-4b54-c212-32b57c31ae25"
      },
      "source": [
        "test_data.head()"
      ],
      "execution_count": null,
      "outputs": [
        {
          "output_type": "execute_result",
          "data": {
            "text/html": [
              "<div>\n",
              "<style scoped>\n",
              "    .dataframe tbody tr th:only-of-type {\n",
              "        vertical-align: middle;\n",
              "    }\n",
              "\n",
              "    .dataframe tbody tr th {\n",
              "        vertical-align: top;\n",
              "    }\n",
              "\n",
              "    .dataframe thead th {\n",
              "        text-align: right;\n",
              "    }\n",
              "</style>\n",
              "<table border=\"1\" class=\"dataframe\">\n",
              "  <thead>\n",
              "    <tr style=\"text-align: right;\">\n",
              "      <th></th>\n",
              "      <th>Unnamed: 0</th>\n",
              "      <th>HHI</th>\n",
              "      <th>HHDL</th>\n",
              "      <th>Married</th>\n",
              "      <th>CollegGrads</th>\n",
              "      <th>AHHAge</th>\n",
              "      <th>Cars</th>\n",
              "      <th>Filed in 2017</th>\n",
              "      <th>Filed in 2016</th>\n",
              "      <th>Filed in 2015</th>\n",
              "    </tr>\n",
              "  </thead>\n",
              "  <tbody>\n",
              "    <tr>\n",
              "      <th>0</th>\n",
              "      <td>17</td>\n",
              "      <td>253274</td>\n",
              "      <td>-633752</td>\n",
              "      <td>2</td>\n",
              "      <td>1</td>\n",
              "      <td>94</td>\n",
              "      <td>3</td>\n",
              "      <td>0</td>\n",
              "      <td>1</td>\n",
              "      <td>1</td>\n",
              "    </tr>\n",
              "    <tr>\n",
              "      <th>1</th>\n",
              "      <td>590</td>\n",
              "      <td>47107</td>\n",
              "      <td>322850</td>\n",
              "      <td>0</td>\n",
              "      <td>1</td>\n",
              "      <td>30</td>\n",
              "      <td>2</td>\n",
              "      <td>1</td>\n",
              "      <td>1</td>\n",
              "      <td>0</td>\n",
              "    </tr>\n",
              "    <tr>\n",
              "      <th>2</th>\n",
              "      <td>224</td>\n",
              "      <td>111874</td>\n",
              "      <td>300583</td>\n",
              "      <td>0</td>\n",
              "      <td>2</td>\n",
              "      <td>46</td>\n",
              "      <td>3</td>\n",
              "      <td>0</td>\n",
              "      <td>1</td>\n",
              "      <td>1</td>\n",
              "    </tr>\n",
              "    <tr>\n",
              "      <th>3</th>\n",
              "      <td>960</td>\n",
              "      <td>96670</td>\n",
              "      <td>107419</td>\n",
              "      <td>0</td>\n",
              "      <td>3</td>\n",
              "      <td>77</td>\n",
              "      <td>5</td>\n",
              "      <td>0</td>\n",
              "      <td>0</td>\n",
              "      <td>0</td>\n",
              "    </tr>\n",
              "    <tr>\n",
              "      <th>4</th>\n",
              "      <td>57</td>\n",
              "      <td>128669</td>\n",
              "      <td>341273</td>\n",
              "      <td>0</td>\n",
              "      <td>0</td>\n",
              "      <td>92</td>\n",
              "      <td>4</td>\n",
              "      <td>1</td>\n",
              "      <td>1</td>\n",
              "      <td>1</td>\n",
              "    </tr>\n",
              "  </tbody>\n",
              "</table>\n",
              "</div>"
            ],
            "text/plain": [
              "   Unnamed: 0     HHI    HHDL  ...  Filed in 2017  Filed in 2016  Filed in 2015\n",
              "0          17  253274 -633752  ...              0              1              1\n",
              "1         590   47107  322850  ...              1              1              0\n",
              "2         224  111874  300583  ...              0              1              1\n",
              "3         960   96670  107419  ...              0              0              0\n",
              "4          57  128669  341273  ...              1              1              1\n",
              "\n",
              "[5 rows x 10 columns]"
            ]
          },
          "metadata": {
            "tags": []
          },
          "execution_count": 67
        }
      ]
    },
    {
      "cell_type": "markdown",
      "metadata": {
        "id": "IpoFKVyhN5nz"
      },
      "source": [
        "Check for missing values"
      ]
    },
    {
      "cell_type": "code",
      "metadata": {
        "colab": {
          "base_uri": "https://localhost:8080/"
        },
        "id": "wOxrkDeQN1sF",
        "outputId": "65ad1d51-3b9b-4538-d659-7f809be553d3"
      },
      "source": [
        "test_data.isnull().sum()"
      ],
      "execution_count": null,
      "outputs": [
        {
          "output_type": "execute_result",
          "data": {
            "text/plain": [
              "Unnamed: 0       0\n",
              "HHI              0\n",
              "HHDL             0\n",
              "Married          0\n",
              "CollegGrads      0\n",
              "AHHAge           0\n",
              "Cars             0\n",
              "Filed in 2017    0\n",
              "Filed in 2016    0\n",
              "Filed in 2015    0\n",
              "dtype: int64"
            ]
          },
          "metadata": {
            "tags": []
          },
          "execution_count": 68
        }
      ]
    },
    {
      "cell_type": "markdown",
      "metadata": {
        "id": "5Kcp4wPeOLDK"
      },
      "source": [
        "No missing values to fill.\n",
        "\n",
        "**Note:** Test data does not contain PoliticalParty column because that is what we're predicting, so we don't have to convert that into a numerical categorical variable through one hot encoding."
      ]
    },
    {
      "cell_type": "markdown",
      "metadata": {
        "id": "rrOjrbsm_kQZ"
      },
      "source": [
        "In our models with training data, we found that the Random Forest model without the \"Unnamed: 0\" column gave us the best accuracy score, so we will drop \"Unnamed: 0\" from test_data and run a Random Forest model."
      ]
    },
    {
      "cell_type": "code",
      "metadata": {
        "id": "zGBCwLnRA73E"
      },
      "source": [
        "test_data.drop(['Unnamed: 0'], axis = 1, inplace = True)"
      ],
      "execution_count": null,
      "outputs": []
    },
    {
      "cell_type": "code",
      "metadata": {
        "colab": {
          "base_uri": "https://localhost:8080/"
        },
        "id": "Sz5mMNihBP6-",
        "outputId": "c8ff50d9-f252-447d-b524-ab1a04298f0a"
      },
      "source": [
        "test_data.info()"
      ],
      "execution_count": null,
      "outputs": [
        {
          "output_type": "stream",
          "text": [
            "<class 'pandas.core.frame.DataFrame'>\n",
            "RangeIndex: 201 entries, 0 to 200\n",
            "Data columns (total 9 columns):\n",
            " #   Column         Non-Null Count  Dtype\n",
            "---  ------         --------------  -----\n",
            " 0   HHI            201 non-null    int64\n",
            " 1   HHDL           201 non-null    int64\n",
            " 2   Married        201 non-null    int64\n",
            " 3   CollegGrads    201 non-null    int64\n",
            " 4   AHHAge         201 non-null    int64\n",
            " 5   Cars           201 non-null    int64\n",
            " 6   Filed in 2017  201 non-null    int64\n",
            " 7   Filed in 2016  201 non-null    int64\n",
            " 8   Filed in 2015  201 non-null    int64\n",
            "dtypes: int64(9)\n",
            "memory usage: 14.3 KB\n"
          ],
          "name": "stdout"
        }
      ]
    },
    {
      "cell_type": "markdown",
      "metadata": {
        "id": "OUkKt2eMBxeW"
      },
      "source": [
        "We will use a Random Forest model using all the independent and dependent features given to us at the beginning. So we must remove \"Unnamed: 0\" from that data as well."
      ]
    },
    {
      "cell_type": "code",
      "metadata": {
        "id": "aweh950mB6_W"
      },
      "source": [
        "newX = X.drop(['Unnamed: 0'], axis = 1)"
      ],
      "execution_count": null,
      "outputs": []
    },
    {
      "cell_type": "code",
      "metadata": {
        "colab": {
          "base_uri": "https://localhost:8080/"
        },
        "id": "bbWjczwHBZGa",
        "outputId": "2aff8a51-a96e-4e59-ef9b-1811003f5655"
      },
      "source": [
        "RForest = RandomForestClassifier(random_state=1, n_estimators=1000, max_depth=5)\n",
        "RForest.fit(newX,Y)"
      ],
      "execution_count": null,
      "outputs": [
        {
          "output_type": "execute_result",
          "data": {
            "text/plain": [
              "RandomForestClassifier(bootstrap=True, ccp_alpha=0.0, class_weight=None,\n",
              "                       criterion='gini', max_depth=5, max_features='auto',\n",
              "                       max_leaf_nodes=None, max_samples=None,\n",
              "                       min_impurity_decrease=0.0, min_impurity_split=None,\n",
              "                       min_samples_leaf=1, min_samples_split=2,\n",
              "                       min_weight_fraction_leaf=0.0, n_estimators=1000,\n",
              "                       n_jobs=None, oob_score=False, random_state=1, verbose=0,\n",
              "                       warm_start=False)"
            ]
          },
          "metadata": {
            "tags": []
          },
          "execution_count": 74
        }
      ]
    },
    {
      "cell_type": "code",
      "metadata": {
        "colab": {
          "base_uri": "https://localhost:8080/"
        },
        "id": "hsadrnX1BdgZ",
        "outputId": "bf69ac9c-3052-461c-be77-6be3630c80f9"
      },
      "source": [
        "target = RForest.predict(test_data)\n",
        "print(target)"
      ],
      "execution_count": null,
      "outputs": [
        {
          "output_type": "stream",
          "text": [
            "['Republican' 'Democrat' 'Democrat' 'Republican' 'Republican' 'Democrat'\n",
            " 'Independent' 'Republican' 'Republican' 'Republican' 'Democrat'\n",
            " 'Republican' 'Democrat' 'Republican' 'Democrat' 'Republican'\n",
            " 'Independent' 'Democrat' 'Republican' 'Democrat' 'Democrat' 'Republican'\n",
            " 'Democrat' 'Democrat' 'Republican' 'Democrat' 'Democrat' 'Republican'\n",
            " 'Republican' 'Democrat' 'Independent' 'Republican' 'Democrat'\n",
            " 'Independent' 'Democrat' 'Republican' 'Republican' 'Independent'\n",
            " 'Independent' 'Independent' 'Republican' 'Independent' 'Democrat'\n",
            " 'Democrat' 'Democrat' 'Democrat' 'Democrat' 'Democrat' 'Democrat'\n",
            " 'Democrat' 'Independent' 'Independent' 'Republican' 'Democrat' 'Democrat'\n",
            " 'Democrat' 'Republican' 'Democrat' 'Democrat' 'Democrat' 'Democrat'\n",
            " 'Democrat' 'Republican' 'Democrat' 'Independent' 'Democrat' 'Republican'\n",
            " 'Independent' 'Democrat' 'Independent' 'Republican' 'Independent'\n",
            " 'Democrat' 'Democrat' 'Independent' 'Democrat' 'Democrat' 'Independent'\n",
            " 'Democrat' 'Republican' 'Republican' 'Democrat' 'Republican'\n",
            " 'Independent' 'Independent' 'Republican' 'Independent' 'Democrat'\n",
            " 'Democrat' 'Republican' 'Independent' 'Democrat' 'Republican' 'Democrat'\n",
            " 'Independent' 'Democrat' 'Democrat' 'Republican' 'Democrat' 'Republican'\n",
            " 'Democrat' 'Republican' 'Republican' 'Independent' 'Independent'\n",
            " 'Democrat' 'Independent' 'Democrat' 'Independent' 'Independent'\n",
            " 'Republican' 'Democrat' 'Democrat' 'Democrat' 'Independent' 'Independent'\n",
            " 'Independent' 'Democrat' 'Republican' 'Republican' 'Independent'\n",
            " 'Democrat' 'Republican' 'Independent' 'Republican' 'Republican'\n",
            " 'Republican' 'Independent' 'Independent' 'Democrat' 'Democrat'\n",
            " 'Republican' 'Republican' 'Independent' 'Democrat' 'Republican'\n",
            " 'Democrat' 'Republican' 'Democrat' 'Republican' 'Democrat' 'Republican'\n",
            " 'Democrat' 'Democrat' 'Independent' 'Republican' 'Democrat' 'Democrat'\n",
            " 'Democrat' 'Republican' 'Republican' 'Republican' 'Republican' 'Democrat'\n",
            " 'Democrat' 'Independent' 'Democrat' 'Democrat' 'Democrat' 'Republican'\n",
            " 'Independent' 'Democrat' 'Republican' 'Republican' 'Republican'\n",
            " 'Democrat' 'Democrat' 'Independent' 'Republican' 'Democrat' 'Republican'\n",
            " 'Independent' 'Republican' 'Independent' 'Democrat' 'Democrat' 'Democrat'\n",
            " 'Democrat' 'Independent' 'Republican' 'Democrat' 'Independent'\n",
            " 'Republican' 'Independent' 'Republican' 'Democrat' 'Republican'\n",
            " 'Democrat' 'Republican' 'Democrat' 'Independent' 'Republican'\n",
            " 'Republican' 'Republican' 'Democrat' 'Republican' 'Republican' 'Democrat'\n",
            " 'Republican' 'Republican' 'Independent']\n"
          ],
          "name": "stdout"
        }
      ]
    },
    {
      "cell_type": "markdown",
      "metadata": {
        "id": "gIJF7Y58D0fk"
      },
      "source": [
        "### Save predication results"
      ]
    },
    {
      "cell_type": "code",
      "metadata": {
        "colab": {
          "base_uri": "https://localhost:8080/",
          "height": 17
        },
        "id": "fjsnQmunDzXA",
        "outputId": "123fb2d4-5def-440c-a23a-6e0c712c862d"
      },
      "source": [
        "# To create Dataframe of predicted value with particular respective index\n",
        "res = pd.DataFrame(target) #target is nothing but the final predictions of your model on input features of your new unseen test data\n",
        "#res.index = test_data.index # its important for comparison. Here \"test_data\" is your new test dataset\n",
        "res.columns = [\"prediction\"]\n",
        "\n",
        "# To download the csv file locally\n",
        "from google.colab import files\n",
        "# res.to_csv('prediction_results.csv', inplace = False)\n",
        "res.to_csv('prediction_results.csv')         \n",
        "files.download('prediction_results.csv')"
      ],
      "execution_count": null,
      "outputs": [
        {
          "output_type": "display_data",
          "data": {
            "application/javascript": [
              "\n",
              "    async function download(id, filename, size) {\n",
              "      if (!google.colab.kernel.accessAllowed) {\n",
              "        return;\n",
              "      }\n",
              "      const div = document.createElement('div');\n",
              "      const label = document.createElement('label');\n",
              "      label.textContent = `Downloading \"${filename}\": `;\n",
              "      div.appendChild(label);\n",
              "      const progress = document.createElement('progress');\n",
              "      progress.max = size;\n",
              "      div.appendChild(progress);\n",
              "      document.body.appendChild(div);\n",
              "\n",
              "      const buffers = [];\n",
              "      let downloaded = 0;\n",
              "\n",
              "      const channel = await google.colab.kernel.comms.open(id);\n",
              "      // Send a message to notify the kernel that we're ready.\n",
              "      channel.send({})\n",
              "\n",
              "      for await (const message of channel.messages) {\n",
              "        // Send a message to notify the kernel that we're ready.\n",
              "        channel.send({})\n",
              "        if (message.buffers) {\n",
              "          for (const buffer of message.buffers) {\n",
              "            buffers.push(buffer);\n",
              "            downloaded += buffer.byteLength;\n",
              "            progress.value = downloaded;\n",
              "          }\n",
              "        }\n",
              "      }\n",
              "      const blob = new Blob(buffers, {type: 'application/binary'});\n",
              "      const a = document.createElement('a');\n",
              "      a.href = window.URL.createObjectURL(blob);\n",
              "      a.download = filename;\n",
              "      div.appendChild(a);\n",
              "      a.click();\n",
              "      div.remove();\n",
              "    }\n",
              "  "
            ],
            "text/plain": [
              "<IPython.core.display.Javascript object>"
            ]
          },
          "metadata": {
            "tags": []
          }
        },
        {
          "output_type": "display_data",
          "data": {
            "application/javascript": [
              "download(\"download_15b4ba89-3f18-4c5c-815c-5f67bf9fc822\", \"prediction_results.csv\", 2790)"
            ],
            "text/plain": [
              "<IPython.core.display.Javascript object>"
            ]
          },
          "metadata": {
            "tags": []
          }
        }
      ]
    }
  ]
}